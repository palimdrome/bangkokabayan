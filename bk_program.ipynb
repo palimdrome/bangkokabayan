{
 "cells": [
  {
   "cell_type": "markdown",
   "id": "b1055e5b-8f54-48b2-890a-a88599fb0985",
   "metadata": {},
   "source": [
    "## Name: Limuelle Alamil\n",
    "## Position Applying For: Software Developer"
   ]
  },
  {
   "cell_type": "markdown",
   "id": "6d0ce85c-dc0a-44cf-b165-e85d62ba359b",
   "metadata": {},
   "source": [
    "# Problem"
   ]
  },
  {
   "cell_type": "markdown",
   "id": "cfad6cc0-b3f0-4e88-9ee2-79ff71774e9c",
   "metadata": {},
   "source": [
    "Based on the data, prepare a program that will:\n",
    "1. Determine the client who has the highest loan balance\n",
    "2. Come up with a report summarizing the total balance and total savings balance per client. \r\n",
    "Output report must be in excel format."
   ]
  },
  {
   "cell_type": "markdown",
   "id": "84559c8b-b8c2-4b37-9f4c-54bfd4da9a01",
   "metadata": {},
   "source": [
    "# Solution"
   ]
  },
  {
   "cell_type": "markdown",
   "id": "8c633428-e439-4b1c-87cb-3bc10f0d071b",
   "metadata": {},
   "source": [
    "## Importing libraries"
   ]
  },
  {
   "cell_type": "markdown",
   "id": "da401954-f132-416c-b4fa-98fcdb06db4e",
   "metadata": {},
   "source": [
    "The Pandas library was used in this program. Pandas is a software library written for the Python programming language for data manipulation and analysis. In particular, it offers data structures and operations for manipulating numerical tables and time series."
   ]
  },
  {
   "cell_type": "code",
   "execution_count": 1,
   "id": "6abe0ee7-90d3-4590-8cc8-d4f9fc6e8d09",
   "metadata": {},
   "outputs": [],
   "source": [
    "import pandas as pd"
   ]
  },
  {
   "cell_type": "markdown",
   "id": "be889407-0d6e-4006-838e-92d06b30b45f",
   "metadata": {},
   "source": [
    "## Data reading and pre-processing"
   ]
  },
  {
   "cell_type": "markdown",
   "id": "b4058f52-6ea1-465d-947f-a2b257522e16",
   "metadata": {},
   "source": [
    "I transferred the given data to a CSV file. The 'ACCT_MASTER' table was transferred to the `Account_Master.csv` file. Let's call this the `accounts`. The 'ID_MASTER' table was transferred to the `Id_Master.csv` file. Let's call this the `clients`.\n",
    "\n",
    "Then, I sorted the tables based on their ID (IDNo) to make it easier to read."
   ]
  },
  {
   "cell_type": "markdown",
   "id": "6d018af8-dc4e-4263-aab3-1d4118f393c6",
   "metadata": {},
   "source": [
    "#### Accounts"
   ]
  },
  {
   "cell_type": "code",
   "execution_count": 2,
   "id": "a73ac563-eceb-4ce2-a061-5ac481fb833e",
   "metadata": {},
   "outputs": [
    {
     "data": {
      "text/html": [
       "<div>\n",
       "<style scoped>\n",
       "    .dataframe tbody tr th:only-of-type {\n",
       "        vertical-align: middle;\n",
       "    }\n",
       "\n",
       "    .dataframe tbody tr th {\n",
       "        vertical-align: top;\n",
       "    }\n",
       "\n",
       "    .dataframe thead th {\n",
       "        text-align: right;\n",
       "    }\n",
       "</style>\n",
       "<table border=\"1\" class=\"dataframe\">\n",
       "  <thead>\n",
       "    <tr style=\"text-align: right;\">\n",
       "      <th></th>\n",
       "      <th>IDNo</th>\n",
       "      <th>AccTyp</th>\n",
       "      <th>AcctNo</th>\n",
       "      <th>ChkDgt</th>\n",
       "      <th>Balance</th>\n",
       "    </tr>\n",
       "  </thead>\n",
       "  <tbody>\n",
       "    <tr>\n",
       "      <th>0</th>\n",
       "      <td>1</td>\n",
       "      <td>LN</td>\n",
       "      <td>1111</td>\n",
       "      <td>25</td>\n",
       "      <td>130212.55</td>\n",
       "    </tr>\n",
       "    <tr>\n",
       "      <th>1</th>\n",
       "      <td>1</td>\n",
       "      <td>LN</td>\n",
       "      <td>4444</td>\n",
       "      <td>2</td>\n",
       "      <td>98000.12</td>\n",
       "    </tr>\n",
       "    <tr>\n",
       "      <th>2</th>\n",
       "      <td>1</td>\n",
       "      <td>LN</td>\n",
       "      <td>6666</td>\n",
       "      <td>3</td>\n",
       "      <td>1500894.00</td>\n",
       "    </tr>\n",
       "    <tr>\n",
       "      <th>3</th>\n",
       "      <td>1</td>\n",
       "      <td>SA</td>\n",
       "      <td>7777</td>\n",
       "      <td>5</td>\n",
       "      <td>45222.12</td>\n",
       "    </tr>\n",
       "    <tr>\n",
       "      <th>4</th>\n",
       "      <td>1</td>\n",
       "      <td>SA</td>\n",
       "      <td>4321</td>\n",
       "      <td>89</td>\n",
       "      <td>11960.89</td>\n",
       "    </tr>\n",
       "    <tr>\n",
       "      <th>5</th>\n",
       "      <td>2</td>\n",
       "      <td>LN</td>\n",
       "      <td>8888</td>\n",
       "      <td>6</td>\n",
       "      <td>32341.51</td>\n",
       "    </tr>\n",
       "    <tr>\n",
       "      <th>6</th>\n",
       "      <td>2</td>\n",
       "      <td>SA</td>\n",
       "      <td>2222</td>\n",
       "      <td>26</td>\n",
       "      <td>212896.75</td>\n",
       "    </tr>\n",
       "    <tr>\n",
       "      <th>7</th>\n",
       "      <td>2</td>\n",
       "      <td>SA</td>\n",
       "      <td>5555</td>\n",
       "      <td>99</td>\n",
       "      <td>1450000.11</td>\n",
       "    </tr>\n",
       "    <tr>\n",
       "      <th>8</th>\n",
       "      <td>2</td>\n",
       "      <td>SA</td>\n",
       "      <td>1222</td>\n",
       "      <td>21</td>\n",
       "      <td>4345.67</td>\n",
       "    </tr>\n",
       "    <tr>\n",
       "      <th>9</th>\n",
       "      <td>3</td>\n",
       "      <td>SA</td>\n",
       "      <td>3333</td>\n",
       "      <td>1</td>\n",
       "      <td>3561.56</td>\n",
       "    </tr>\n",
       "    <tr>\n",
       "      <th>10</th>\n",
       "      <td>3</td>\n",
       "      <td>SA</td>\n",
       "      <td>9999</td>\n",
       "      <td>7</td>\n",
       "      <td>43551.15</td>\n",
       "    </tr>\n",
       "    <tr>\n",
       "      <th>11</th>\n",
       "      <td>4</td>\n",
       "      <td>LN</td>\n",
       "      <td>1333</td>\n",
       "      <td>88</td>\n",
       "      <td>653342.18</td>\n",
       "    </tr>\n",
       "    <tr>\n",
       "      <th>12</th>\n",
       "      <td>4</td>\n",
       "      <td>SA</td>\n",
       "      <td>1234</td>\n",
       "      <td>54</td>\n",
       "      <td>562254.18</td>\n",
       "    </tr>\n",
       "    <tr>\n",
       "      <th>13</th>\n",
       "      <td>5</td>\n",
       "      <td>SA</td>\n",
       "      <td>5678</td>\n",
       "      <td>67</td>\n",
       "      <td>90431.12</td>\n",
       "    </tr>\n",
       "    <tr>\n",
       "      <th>14</th>\n",
       "      <td>10</td>\n",
       "      <td>SA</td>\n",
       "      <td>8765</td>\n",
       "      <td>32</td>\n",
       "      <td>145.78</td>\n",
       "    </tr>\n",
       "  </tbody>\n",
       "</table>\n",
       "</div>"
      ],
      "text/plain": [
       "    IDNo AccTyp  AcctNo  ChkDgt     Balance\n",
       "0      1     LN    1111      25   130212.55\n",
       "1      1     LN    4444       2    98000.12\n",
       "2      1     LN    6666       3  1500894.00\n",
       "3      1     SA    7777       5    45222.12\n",
       "4      1     SA    4321      89    11960.89\n",
       "5      2     LN    8888       6    32341.51\n",
       "6      2     SA    2222      26   212896.75\n",
       "7      2     SA    5555      99  1450000.11\n",
       "8      2     SA    1222      21     4345.67\n",
       "9      3     SA    3333       1     3561.56\n",
       "10     3     SA    9999       7    43551.15\n",
       "11     4     LN    1333      88   653342.18\n",
       "12     4     SA    1234      54   562254.18\n",
       "13     5     SA    5678      67    90431.12\n",
       "14    10     SA    8765      32      145.78"
      ]
     },
     "execution_count": 2,
     "metadata": {},
     "output_type": "execute_result"
    }
   ],
   "source": [
    "accounts = pd.read_csv(\"Account_Master.csv\")\n",
    "sorted_accts = accounts.sort_values(by=['IDNo', 'AccTyp'])\n",
    "sorted_accts.reset_index(drop=True, inplace=True)\n",
    "sorted_accts"
   ]
  },
  {
   "cell_type": "markdown",
   "id": "ef1d73bd-65c5-41d8-867c-c5a908251688",
   "metadata": {},
   "source": [
    "#### Clients"
   ]
  },
  {
   "cell_type": "code",
   "execution_count": 3,
   "id": "263c6849-69a5-4348-8d5c-31f0d70a076a",
   "metadata": {},
   "outputs": [
    {
     "data": {
      "text/html": [
       "<div>\n",
       "<style scoped>\n",
       "    .dataframe tbody tr th:only-of-type {\n",
       "        vertical-align: middle;\n",
       "    }\n",
       "\n",
       "    .dataframe tbody tr th {\n",
       "        vertical-align: top;\n",
       "    }\n",
       "\n",
       "    .dataframe thead th {\n",
       "        text-align: right;\n",
       "    }\n",
       "</style>\n",
       "<table border=\"1\" class=\"dataframe\">\n",
       "  <thead>\n",
       "    <tr style=\"text-align: right;\">\n",
       "      <th></th>\n",
       "      <th>IDNo</th>\n",
       "      <th>ClntName</th>\n",
       "    </tr>\n",
       "  </thead>\n",
       "  <tbody>\n",
       "    <tr>\n",
       "      <th>0</th>\n",
       "      <td>1</td>\n",
       "      <td>Pascual, Piolo</td>\n",
       "    </tr>\n",
       "    <tr>\n",
       "      <th>1</th>\n",
       "      <td>2</td>\n",
       "      <td>Rosales, Jericho</td>\n",
       "    </tr>\n",
       "    <tr>\n",
       "      <th>2</th>\n",
       "      <td>3</td>\n",
       "      <td>Dantes, Dingdong</td>\n",
       "    </tr>\n",
       "    <tr>\n",
       "      <th>3</th>\n",
       "      <td>4</td>\n",
       "      <td>Padilla, Daniel</td>\n",
       "    </tr>\n",
       "    <tr>\n",
       "      <th>4</th>\n",
       "      <td>5</td>\n",
       "      <td>Rodriguez, Tom</td>\n",
       "    </tr>\n",
       "    <tr>\n",
       "      <th>5</th>\n",
       "      <td>10</td>\n",
       "      <td>Santos, Eric</td>\n",
       "    </tr>\n",
       "  </tbody>\n",
       "</table>\n",
       "</div>"
      ],
      "text/plain": [
       "   IDNo          ClntName\n",
       "0     1    Pascual, Piolo\n",
       "1     2  Rosales, Jericho\n",
       "2     3  Dantes, Dingdong\n",
       "3     4   Padilla, Daniel\n",
       "4     5    Rodriguez, Tom\n",
       "5    10      Santos, Eric"
      ]
     },
     "execution_count": 3,
     "metadata": {},
     "output_type": "execute_result"
    }
   ],
   "source": [
    "clients = pd.read_csv(\"Id_Master.csv\")\n",
    "clients"
   ]
  },
  {
   "cell_type": "markdown",
   "id": "ac6c51a8-2b36-4257-9695-3476c4e3a82f",
   "metadata": {},
   "source": [
    "## Computing the answer"
   ]
  },
  {
   "cell_type": "markdown",
   "id": "db721afc-781a-45cc-889e-597089e3e570",
   "metadata": {},
   "source": [
    "Three dictionaries were initialized. They will contain the total loan balance, total savings balance, and total balance (savings - loans) of each client, respectively. Specifically, the client's ID will serve as the key and the client's balance will serve as the value (e.g., { [id]:[balance] } )"
   ]
  },
  {
   "cell_type": "code",
   "execution_count": 4,
   "id": "99ceb113-d03d-409d-b6ff-3f941e8f7871",
   "metadata": {},
   "outputs": [],
   "source": [
    "total_loan = {}\n",
    "total_sav = {}\n",
    "total_bal = {}"
   ]
  },
  {
   "cell_type": "markdown",
   "id": "57abece4-20a6-4256-b076-5aa0d5281482",
   "metadata": {},
   "source": [
    "A double `for` loop is used to solve the problem. The first loop will iterate through the list of clients. Then, each client's ID will be cross-checked against the client IDs in the accounts table using another `for` loop. **This is how the account data of the client (e.g., loan balance and savings balance) will be accessed.**\n",
    "\n",
    "Then, each row in the `accounts` is checked whether it is a loan or savings account. If the row is a loan account (LN), the loan balance will be added to the client's value in the `total_loan` dictionary and will be deducted from the client's value in the `total_bal` dictionary, otherwise (SA), it will be added to the client's value in the `total_sav` dictionary and will be added to the client's value in the `total_bal` dictionary. The owner of the account can be determined using the ID. **This is how the total loan balance, total savings balance, and total balance of each client is computed and temporarily stored in the dictionaries.**\n",
    "\n",
    "Once all the rows in the accounts table are checked, the three dictionaries will be converted into a list so that it can be appended as a column to the dataframe (table). **This is how the totals are displayed.**"
   ]
  },
  {
   "cell_type": "code",
   "execution_count": 5,
   "id": "b7596c81-bb51-4b57-a465-39b5cc156677",
   "metadata": {},
   "outputs": [],
   "source": [
    "# will loop through each client in the clients table\n",
    "for c in range(0, clients[clients.columns[0]].count()):\n",
    "\n",
    "    # will retrieve the current client's ID\n",
    "    c_id = clients.iloc[c]['IDNo']\n",
    "\n",
    "    # will initialize the total loan, total savings, and total balance of the current client to 0; this will increment or decrement later\n",
    "    total_loan[c_id] = 0\n",
    "    total_sav[c_id] = 0\n",
    "    total_bal[c_id] = 0\n",
    "\n",
    "    # will loop through each account in the accounts table\n",
    "    for a in range(0, sorted_accts[sorted_accts.columns[0]].count()):\n",
    "\n",
    "        # will retrieve the current account's client ID\n",
    "        a_id = sorted_accts.iloc[a]['IDNo']\n",
    "        # will retrieve the current account's type (LN or SA)\n",
    "        a_type = sorted_accts.iloc[a]['AccTyp']\n",
    "\n",
    "        # will check if the current account's client ID is the current client in the loop; if not, exit the iteration and proceed to next account\n",
    "        if c_id == a_id:\n",
    "            # if the current account is a loan\n",
    "            if a_type == 'LN':\n",
    "                a_loan_bal = sorted_accts.iloc[a]['Balance']\n",
    "                # add the loan balance to the client's total loan\n",
    "                total_loan[c_id] += a_loan_bal\n",
    "                # subtract the loan balance to the client's total balance\n",
    "                total_bal[c_id] -= a_loan_bal\n",
    "            # if the current account is a savings\n",
    "            else:\n",
    "                a_sav_bal = sorted_accts.iloc[a]['Balance']\n",
    "                # add the savings balance to the client's total savings\n",
    "                total_sav[c_id] += a_sav_bal\n",
    "                # add the savings balance to the client's total balance\n",
    "                total_bal[c_id] += a_sav_bal\n",
    "\n",
    "# converts the dictionaries into lists so they can be displayed in the dataframe (table)\n",
    "total_loan_list = list(total_loan.values())\n",
    "total_sav_list = list(total_sav.values())\n",
    "total_bal_list = list(total_bal.values())\n",
    "\n",
    "# displays the list in the dataframe (table)\n",
    "clients['Total Loan Balance'] = total_loan_list\n",
    "clients['Total Savings Balance'] = total_sav_list\n",
    "clients['Total Balance'] = total_bal_list"
   ]
  },
  {
   "cell_type": "markdown",
   "id": "05a3c9f5-e076-4ef5-9f08-a6bfd09598f0",
   "metadata": {},
   "source": [
    "# Answers"
   ]
  },
  {
   "cell_type": "markdown",
   "id": "66346cc1-8a7e-4130-b6d0-ce0f45d61a89",
   "metadata": {},
   "source": [
    "#### Report summarizing the total balance and total savings balance per client"
   ]
  },
  {
   "cell_type": "code",
   "execution_count": 6,
   "id": "eb6d63a0-8c7d-4c12-a6d5-5d79b663ee9b",
   "metadata": {},
   "outputs": [
    {
     "data": {
      "text/html": [
       "<div>\n",
       "<style scoped>\n",
       "    .dataframe tbody tr th:only-of-type {\n",
       "        vertical-align: middle;\n",
       "    }\n",
       "\n",
       "    .dataframe tbody tr th {\n",
       "        vertical-align: top;\n",
       "    }\n",
       "\n",
       "    .dataframe thead th {\n",
       "        text-align: right;\n",
       "    }\n",
       "</style>\n",
       "<table border=\"1\" class=\"dataframe\">\n",
       "  <thead>\n",
       "    <tr style=\"text-align: right;\">\n",
       "      <th></th>\n",
       "      <th>IDNo</th>\n",
       "      <th>ClntName</th>\n",
       "      <th>Total Loan Balance</th>\n",
       "      <th>Total Savings Balance</th>\n",
       "      <th>Total Balance</th>\n",
       "    </tr>\n",
       "  </thead>\n",
       "  <tbody>\n",
       "    <tr>\n",
       "      <th>0</th>\n",
       "      <td>1</td>\n",
       "      <td>Pascual, Piolo</td>\n",
       "      <td>1729106.67</td>\n",
       "      <td>57183.01</td>\n",
       "      <td>-1671923.66</td>\n",
       "    </tr>\n",
       "    <tr>\n",
       "      <th>1</th>\n",
       "      <td>2</td>\n",
       "      <td>Rosales, Jericho</td>\n",
       "      <td>32341.51</td>\n",
       "      <td>1667242.53</td>\n",
       "      <td>1634901.02</td>\n",
       "    </tr>\n",
       "    <tr>\n",
       "      <th>2</th>\n",
       "      <td>3</td>\n",
       "      <td>Dantes, Dingdong</td>\n",
       "      <td>0.00</td>\n",
       "      <td>47112.71</td>\n",
       "      <td>47112.71</td>\n",
       "    </tr>\n",
       "    <tr>\n",
       "      <th>3</th>\n",
       "      <td>4</td>\n",
       "      <td>Padilla, Daniel</td>\n",
       "      <td>653342.18</td>\n",
       "      <td>562254.18</td>\n",
       "      <td>-91088.00</td>\n",
       "    </tr>\n",
       "    <tr>\n",
       "      <th>4</th>\n",
       "      <td>5</td>\n",
       "      <td>Rodriguez, Tom</td>\n",
       "      <td>0.00</td>\n",
       "      <td>90431.12</td>\n",
       "      <td>90431.12</td>\n",
       "    </tr>\n",
       "    <tr>\n",
       "      <th>5</th>\n",
       "      <td>10</td>\n",
       "      <td>Santos, Eric</td>\n",
       "      <td>0.00</td>\n",
       "      <td>145.78</td>\n",
       "      <td>145.78</td>\n",
       "    </tr>\n",
       "  </tbody>\n",
       "</table>\n",
       "</div>"
      ],
      "text/plain": [
       "   IDNo          ClntName  Total Loan Balance  Total Savings Balance  \\\n",
       "0     1    Pascual, Piolo          1729106.67               57183.01   \n",
       "1     2  Rosales, Jericho            32341.51             1667242.53   \n",
       "2     3  Dantes, Dingdong                0.00               47112.71   \n",
       "3     4   Padilla, Daniel           653342.18              562254.18   \n",
       "4     5    Rodriguez, Tom                0.00               90431.12   \n",
       "5    10      Santos, Eric                0.00                 145.78   \n",
       "\n",
       "   Total Balance  \n",
       "0    -1671923.66  \n",
       "1     1634901.02  \n",
       "2       47112.71  \n",
       "3      -91088.00  \n",
       "4       90431.12  \n",
       "5         145.78  "
      ]
     },
     "execution_count": 6,
     "metadata": {},
     "output_type": "execute_result"
    }
   ],
   "source": [
    "clients.to_csv('Account_Summary_Report.csv', index=False)\n",
    "clients"
   ]
  },
  {
   "cell_type": "markdown",
   "id": "bfbd04ac-6611-488b-9158-ebbf5231fe35",
   "metadata": {},
   "source": [
    "The summary report named `Account_Summary_Report` is now exported as a CSV file in the root folder."
   ]
  },
  {
   "cell_type": "markdown",
   "id": "f7321bbb-b579-4b5a-8abf-b8f5c3019406",
   "metadata": {},
   "source": [
    "#### The client who has the highest loan balance"
   ]
  },
  {
   "cell_type": "code",
   "execution_count": 7,
   "id": "8afeb0a3-dc9c-47f3-bedb-6b392267a66f",
   "metadata": {},
   "outputs": [
    {
     "data": {
      "text/plain": [
       "'Pascual, Piolo'"
      ]
     },
     "execution_count": 7,
     "metadata": {},
     "output_type": "execute_result"
    }
   ],
   "source": [
    "# will check what row has the highest value in the Total Loan Balance column\n",
    "highest_loan_index = clients['Total Loan Balance'].idxmax()\n",
    "# will retrieve the row's client name (e.g., 'Pascual, Piolo')\n",
    "highest_loan_client = clients.iloc[highest_loan_index]['ClntName']\n",
    "highest_loan_client"
   ]
  }
 ],
 "metadata": {
  "kernelspec": {
   "display_name": "Python 3 (ipykernel)",
   "language": "python",
   "name": "python3"
  },
  "language_info": {
   "codemirror_mode": {
    "name": "ipython",
    "version": 3
   },
   "file_extension": ".py",
   "mimetype": "text/x-python",
   "name": "python",
   "nbconvert_exporter": "python",
   "pygments_lexer": "ipython3",
   "version": "3.11.7"
  }
 },
 "nbformat": 4,
 "nbformat_minor": 5
}
